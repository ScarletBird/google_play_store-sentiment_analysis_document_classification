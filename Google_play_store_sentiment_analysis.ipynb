{
  "nbformat": 4,
  "nbformat_minor": 0,
  "metadata": {
    "colab": {
      "name": "Google play store - sentiment analysis.ipynb",
      "provenance": [],
      "collapsed_sections": [],
      "authorship_tag": "ABX9TyOjBtFZSKZ3by7D8V2tRLvr",
      "include_colab_link": true
    },
    "kernelspec": {
      "name": "python3",
      "display_name": "Python 3"
    }
  },
  "cells": [
    {
      "cell_type": "markdown",
      "metadata": {
        "id": "view-in-github",
        "colab_type": "text"
      },
      "source": [
        "<a href=\"https://colab.research.google.com/github/ScarletBird/google_play_store-sentiment_analysis_document_classification/blob/main/Google_play_store_sentiment_analysis.ipynb\" target=\"_parent\"><img src=\"https://colab.research.google.com/assets/colab-badge.svg\" alt=\"Open In Colab\"/></a>"
      ]
    },
    {
      "cell_type": "markdown",
      "metadata": {
        "id": "d067StwK0wKA"
      },
      "source": [
        "For this project, the Google Apps reviews dataset was chosen to analyse whether the client made a good review, a neutral review or a bad review (Sentiment Analysis).\r\n",
        "For the second part, the app will be classified according to what was said about it (Document Classification)"
      ]
    },
    {
      "cell_type": "code",
      "metadata": {
        "id": "n6l2fqQ70nP6",
        "colab": {
          "base_uri": "https://localhost:8080/"
        },
        "outputId": "c4e27999-db96-4fd2-a9c8-184041717002"
      },
      "source": [
        "# Importing nltk and pandas\n",
        "import nltk\n",
        "import pandas as pd\n",
        "\n",
        "# Used for Lemmatisation mostly, but the download will be made here\n",
        "# to avoid polluting the code\n",
        "nltk.download('stopwords')\n",
        "nltk.download('punkt')\n",
        "nltk.download('wordnet')\n",
        "nltk.download('averaged_perceptron_tagger')"
      ],
      "execution_count": 1,
      "outputs": [
        {
          "output_type": "stream",
          "text": [
            "[nltk_data] Downloading package stopwords to /root/nltk_data...\n",
            "[nltk_data]   Package stopwords is already up-to-date!\n",
            "[nltk_data] Downloading package punkt to /root/nltk_data...\n",
            "[nltk_data]   Package punkt is already up-to-date!\n",
            "[nltk_data] Downloading package wordnet to /root/nltk_data...\n",
            "[nltk_data]   Package wordnet is already up-to-date!\n",
            "[nltk_data] Downloading package averaged_perceptron_tagger to\n",
            "[nltk_data]     /root/nltk_data...\n",
            "[nltk_data]   Package averaged_perceptron_tagger is already up-to-\n",
            "[nltk_data]       date!\n"
          ],
          "name": "stdout"
        },
        {
          "output_type": "execute_result",
          "data": {
            "text/plain": [
              "True"
            ]
          },
          "metadata": {
            "tags": []
          },
          "execution_count": 1
        }
      ]
    },
    {
      "cell_type": "markdown",
      "metadata": {
        "id": "OjgZza0hOP0n"
      },
      "source": [
        "After importing the libraries that will be used, the dataset will be imported. This dataset can be found in: https://www.kaggle.com/lava18/google-play-store-apps?select=googleplaystore_user_reviews.csv"
      ]
    },
    {
      "cell_type": "code",
      "metadata": {
        "colab": {
          "base_uri": "https://localhost:8080/",
          "height": 221
        },
        "id": "tvSNqanaO5rc",
        "outputId": "73a95aac-b706-4236-988f-137eaa61c40e"
      },
      "source": [
        "data = pd.read_csv('googleplaystore_user_reviews.csv')\n",
        "\n",
        "# Visualization of the first data\n",
        "print(\"Dataset size: {0}\".format(data.size))\n",
        "data.head()"
      ],
      "execution_count": 2,
      "outputs": [
        {
          "output_type": "stream",
          "text": [
            "Dataset size: 321475\n"
          ],
          "name": "stdout"
        },
        {
          "output_type": "execute_result",
          "data": {
            "text/html": [
              "<div>\n",
              "<style scoped>\n",
              "    .dataframe tbody tr th:only-of-type {\n",
              "        vertical-align: middle;\n",
              "    }\n",
              "\n",
              "    .dataframe tbody tr th {\n",
              "        vertical-align: top;\n",
              "    }\n",
              "\n",
              "    .dataframe thead th {\n",
              "        text-align: right;\n",
              "    }\n",
              "</style>\n",
              "<table border=\"1\" class=\"dataframe\">\n",
              "  <thead>\n",
              "    <tr style=\"text-align: right;\">\n",
              "      <th></th>\n",
              "      <th>App</th>\n",
              "      <th>Translated_Review</th>\n",
              "      <th>Sentiment</th>\n",
              "      <th>Sentiment_Polarity</th>\n",
              "      <th>Sentiment_Subjectivity</th>\n",
              "    </tr>\n",
              "  </thead>\n",
              "  <tbody>\n",
              "    <tr>\n",
              "      <th>0</th>\n",
              "      <td>10 Best Foods for You</td>\n",
              "      <td>I like eat delicious food. That's I'm cooking ...</td>\n",
              "      <td>Positive</td>\n",
              "      <td>1.00</td>\n",
              "      <td>0.533333</td>\n",
              "    </tr>\n",
              "    <tr>\n",
              "      <th>1</th>\n",
              "      <td>10 Best Foods for You</td>\n",
              "      <td>This help eating healthy exercise regular basis</td>\n",
              "      <td>Positive</td>\n",
              "      <td>0.25</td>\n",
              "      <td>0.288462</td>\n",
              "    </tr>\n",
              "    <tr>\n",
              "      <th>2</th>\n",
              "      <td>10 Best Foods for You</td>\n",
              "      <td>NaN</td>\n",
              "      <td>NaN</td>\n",
              "      <td>NaN</td>\n",
              "      <td>NaN</td>\n",
              "    </tr>\n",
              "    <tr>\n",
              "      <th>3</th>\n",
              "      <td>10 Best Foods for You</td>\n",
              "      <td>Works great especially going grocery store</td>\n",
              "      <td>Positive</td>\n",
              "      <td>0.40</td>\n",
              "      <td>0.875000</td>\n",
              "    </tr>\n",
              "    <tr>\n",
              "      <th>4</th>\n",
              "      <td>10 Best Foods for You</td>\n",
              "      <td>Best idea us</td>\n",
              "      <td>Positive</td>\n",
              "      <td>1.00</td>\n",
              "      <td>0.300000</td>\n",
              "    </tr>\n",
              "  </tbody>\n",
              "</table>\n",
              "</div>"
            ],
            "text/plain": [
              "                     App  ... Sentiment_Subjectivity\n",
              "0  10 Best Foods for You  ...               0.533333\n",
              "1  10 Best Foods for You  ...               0.288462\n",
              "2  10 Best Foods for You  ...                    NaN\n",
              "3  10 Best Foods for You  ...               0.875000\n",
              "4  10 Best Foods for You  ...               0.300000\n",
              "\n",
              "[5 rows x 5 columns]"
            ]
          },
          "metadata": {
            "tags": []
          },
          "execution_count": 2
        }
      ]
    },
    {
      "cell_type": "markdown",
      "metadata": {
        "id": "0bC7Ki-iQRjj"
      },
      "source": [
        "In this dataset there are some NaN value, which will be expurged so only data with values will be worked on."
      ]
    },
    {
      "cell_type": "code",
      "metadata": {
        "id": "bDrkF3dPQdYU",
        "colab": {
          "base_uri": "https://localhost:8080/",
          "height": 221
        },
        "outputId": "07a4c88c-472c-40fb-ce53-80ad8d03a86f"
      },
      "source": [
        "# Dropna from pandas will eliminate NaN\n",
        "data = data.dropna(axis=0, subset=[\"Translated_Review\"])\n",
        "\n",
        "print(\"Dataset size without NaN: {0}\".format(data.size))\n",
        "data.head()"
      ],
      "execution_count": 3,
      "outputs": [
        {
          "output_type": "stream",
          "text": [
            "Dataset size without NaN: 187135\n"
          ],
          "name": "stdout"
        },
        {
          "output_type": "execute_result",
          "data": {
            "text/html": [
              "<div>\n",
              "<style scoped>\n",
              "    .dataframe tbody tr th:only-of-type {\n",
              "        vertical-align: middle;\n",
              "    }\n",
              "\n",
              "    .dataframe tbody tr th {\n",
              "        vertical-align: top;\n",
              "    }\n",
              "\n",
              "    .dataframe thead th {\n",
              "        text-align: right;\n",
              "    }\n",
              "</style>\n",
              "<table border=\"1\" class=\"dataframe\">\n",
              "  <thead>\n",
              "    <tr style=\"text-align: right;\">\n",
              "      <th></th>\n",
              "      <th>App</th>\n",
              "      <th>Translated_Review</th>\n",
              "      <th>Sentiment</th>\n",
              "      <th>Sentiment_Polarity</th>\n",
              "      <th>Sentiment_Subjectivity</th>\n",
              "    </tr>\n",
              "  </thead>\n",
              "  <tbody>\n",
              "    <tr>\n",
              "      <th>0</th>\n",
              "      <td>10 Best Foods for You</td>\n",
              "      <td>I like eat delicious food. That's I'm cooking ...</td>\n",
              "      <td>Positive</td>\n",
              "      <td>1.00</td>\n",
              "      <td>0.533333</td>\n",
              "    </tr>\n",
              "    <tr>\n",
              "      <th>1</th>\n",
              "      <td>10 Best Foods for You</td>\n",
              "      <td>This help eating healthy exercise regular basis</td>\n",
              "      <td>Positive</td>\n",
              "      <td>0.25</td>\n",
              "      <td>0.288462</td>\n",
              "    </tr>\n",
              "    <tr>\n",
              "      <th>3</th>\n",
              "      <td>10 Best Foods for You</td>\n",
              "      <td>Works great especially going grocery store</td>\n",
              "      <td>Positive</td>\n",
              "      <td>0.40</td>\n",
              "      <td>0.875000</td>\n",
              "    </tr>\n",
              "    <tr>\n",
              "      <th>4</th>\n",
              "      <td>10 Best Foods for You</td>\n",
              "      <td>Best idea us</td>\n",
              "      <td>Positive</td>\n",
              "      <td>1.00</td>\n",
              "      <td>0.300000</td>\n",
              "    </tr>\n",
              "    <tr>\n",
              "      <th>5</th>\n",
              "      <td>10 Best Foods for You</td>\n",
              "      <td>Best way</td>\n",
              "      <td>Positive</td>\n",
              "      <td>1.00</td>\n",
              "      <td>0.300000</td>\n",
              "    </tr>\n",
              "  </tbody>\n",
              "</table>\n",
              "</div>"
            ],
            "text/plain": [
              "                     App  ... Sentiment_Subjectivity\n",
              "0  10 Best Foods for You  ...               0.533333\n",
              "1  10 Best Foods for You  ...               0.288462\n",
              "3  10 Best Foods for You  ...               0.875000\n",
              "4  10 Best Foods for You  ...               0.300000\n",
              "5  10 Best Foods for You  ...               0.300000\n",
              "\n",
              "[5 rows x 5 columns]"
            ]
          },
          "metadata": {
            "tags": []
          },
          "execution_count": 3
        }
      ]
    },
    {
      "cell_type": "markdown",
      "metadata": {
        "id": "54VTyP5vUwg1"
      },
      "source": [
        "In the original dataset, we already have the feelings, the polarity and the subjectivity of each review, but since the algorithm will classify the sentiment only, it will be cast aside."
      ]
    },
    {
      "cell_type": "code",
      "metadata": {
        "id": "fYKyObL_Vdg0",
        "colab": {
          "base_uri": "https://localhost:8080/",
          "height": 384
        },
        "outputId": "5de5888f-c4a1-408e-d4f9-349d9566ddbe"
      },
      "source": [
        "import seaborn as sns\n",
        "\n",
        "# From-to of the sentiments: 1 is positive, 0 is neutral and -1 is negative\n",
        "def sentimentToInt(word):\n",
        "  if word == 'Positive': return 1\n",
        "  elif word == 'Negative': return -1\n",
        "  else: return 0\n",
        "\n",
        "# Dataset is divided for each case\n",
        "X = data.Translated_Review\n",
        "y = data.Sentiment.apply(sentimentToInt)\n",
        "\n",
        "# Visualization of sentiment in general\n",
        "sns.countplot(x=data.Sentiment)\n",
        "\n",
        "X.head()"
      ],
      "execution_count": 4,
      "outputs": [
        {
          "output_type": "execute_result",
          "data": {
            "text/plain": [
              "0    I like eat delicious food. That's I'm cooking ...\n",
              "1      This help eating healthy exercise regular basis\n",
              "3           Works great especially going grocery store\n",
              "4                                         Best idea us\n",
              "5                                             Best way\n",
              "Name: Translated_Review, dtype: object"
            ]
          },
          "metadata": {
            "tags": []
          },
          "execution_count": 4
        },
        {
          "output_type": "display_data",
          "data": {
            "image/png": "[encoded data removed]",
            "text/plain": [
              "<Figure size 432x288 with 1 Axes>"
            ]
          },
          "metadata": {
            "tags": [],
            "needs_background": "light"
          }
        }
      ]
    },
    {
      "cell_type": "markdown",
      "metadata": {
        "id": "XXkwiEWazTTp"
      },
      "source": [
        "Splitting data for train and test"
      ]
    },
    {
      "cell_type": "code",
      "metadata": {
        "id": "FcE3m9-IzX8s",
        "colab": {
          "base_uri": "https://localhost:8080/"
        },
        "outputId": "4b0ca459-177f-496c-f35d-9eef11d15fc8"
      },
      "source": [
        "from sklearn.model_selection import train_test_split\r\n",
        "\r\n",
        "# The split is made without random state, so the results are preseverd\r\n",
        "train_X, test_X, train_y, test_y = train_test_split(X, y, random_state=0)\r\n",
        "\r\n",
        "print(train_X)"
      ],
      "execution_count": 5,
      "outputs": [
        {
          "output_type": "stream",
          "text": [
            "63423    Honestly waste time. I always saw ads YouTube ...\n",
            "26985    This game favorite time. 5/5, problem I I'm 2v...\n",
            "11129    I love able school pain buttox pay,I money pay...\n",
            "35202                                            Love game\n",
            "14584    I used love app.. simple easy use, always I wa...\n",
            "                               ...                        \n",
            "35616    I dont like updated version much ads, takes lo...\n",
            "54887                                                 Cool\n",
            "52297    game time always helped tickets even messed go...\n",
            "36137    My kids love much keep asking visit places hah...\n",
            "4284     This sux saves cloud. Unless im missing someth...\n",
            "Name: Translated_Review, Length: 28070, dtype: object\n"
          ],
          "name": "stdout"
        }
      ]
    },
    {
      "cell_type": "markdown",
      "metadata": {
        "id": "p80abkhfe0q3"
      },
      "source": [
        "After splitting the dataset, a Counting matrice is made so we can use it for training."
      ]
    },
    {
      "cell_type": "code",
      "metadata": {
        "id": "1wd_aCz_gJBh"
      },
      "source": [
        "from sklearn.feature_extraction.text import CountVectorizer\r\n",
        "from nltk.tokenize import TweetTokenizer\r\n",
        "\r\n",
        "# Tweets tokenizer is used, to keep smiles and ponctuation, which may affect sentiment analysis\r\n",
        "tknzr = TweetTokenizer(preserve_case=False, reduce_len=True)\r\n",
        "\r\n",
        "# Tokens that are in at least 10 reviews\r\n",
        "counter_vectorizer = CountVectorizer(tokenizer=tknzr.tokenize, stop_words='english', min_df=10)\r\n",
        "\r\n",
        "counts = counter_vectorizer.fit_transform(train_X)"
      ],
      "execution_count": 6,
      "outputs": []
    },
    {
      "cell_type": "markdown",
      "metadata": {
        "id": "XsSigzp6zn_E"
      },
      "source": [
        "After treatment, the data is trained using Random Forest Classifier"
      ]
    },
    {
      "cell_type": "code",
      "metadata": {
        "id": "mfxAWlk6vNSH",
        "colab": {
          "base_uri": "https://localhost:8080/"
        },
        "outputId": "2098ff80-b607-4fbb-b749-af555108030f"
      },
      "source": [
        "from sklearn.ensemble import RandomForestClassifier\r\n",
        "\r\n",
        "# Training using Random Forest Classifier\r\n",
        "rfc = RandomForestClassifier(n_estimators=100, random_state=42)\r\n",
        "rfc.fit(counts, train_y)"
      ],
      "execution_count": 7,
      "outputs": [
        {
          "output_type": "execute_result",
          "data": {
            "text/plain": [
              "RandomForestClassifier(bootstrap=True, ccp_alpha=0.0, class_weight=None,\n",
              "                       criterion='gini', max_depth=None, max_features='auto',\n",
              "                       max_leaf_nodes=None, max_samples=None,\n",
              "                       min_impurity_decrease=0.0, min_impurity_split=None,\n",
              "                       min_samples_leaf=1, min_samples_split=2,\n",
              "                       min_weight_fraction_leaf=0.0, n_estimators=100,\n",
              "                       n_jobs=None, oob_score=False, random_state=42, verbose=0,\n",
              "                       warm_start=False)"
            ]
          },
          "metadata": {
            "tags": []
          },
          "execution_count": 7
        }
      ]
    },
    {
      "cell_type": "markdown",
      "metadata": {
        "id": "qwcde1Gt0xiI"
      },
      "source": [
        "The Confusion Matrix and Classification Report will be used for a better visualization of the results, both provided by Sklearn. A pipeline is also created so the data can be easily processed."
      ]
    },
    {
      "cell_type": "code",
      "metadata": {
        "id": "za3xsQRO1J9V",
        "colab": {
          "base_uri": "https://localhost:8080/",
          "height": 449
        },
        "outputId": "b0c54219-2785-42ac-cc74-dba4022983ac"
      },
      "source": [
        "import matplotlib.pyplot as plt\r\n",
        "\r\n",
        "from sklearn.pipeline import Pipeline\r\n",
        "from sklearn.metrics import plot_confusion_matrix, classification_report\r\n",
        "\r\n",
        "# Pipeline creation\r\n",
        "pipeline_data = Pipeline([\r\n",
        "    ('vect', counter_vectorizer),\r\n",
        "    ('clf', rfc)\r\n",
        "])\r\n",
        "\r\n",
        "# Confusion Matrix for graphic visual\r\n",
        "plot_confusion_matrix(pipeline_data, test_X, test_y,\r\n",
        "                                 display_labels=['negative','neutral','positive'],\r\n",
        "                                 cmap=plt.cm.Blues,\r\n",
        "                                 normalize='true')\r\n",
        "\r\n",
        "# Classification Report for numeric visual\r\n",
        "print(classification_report(test_y, pipeline_data.predict(test_X),zero_division=0))"
      ],
      "execution_count": 8,
      "outputs": [
        {
          "output_type": "stream",
          "text": [
            "              precision    recall  f1-score   support\n",
            "\n",
            "          -1       0.93      0.74      0.83      2098\n",
            "           0       0.82      0.80      0.81      1307\n",
            "           1       0.89      0.96      0.92      5952\n",
            "\n",
            "    accuracy                           0.89      9357\n",
            "   macro avg       0.88      0.83      0.85      9357\n",
            "weighted avg       0.89      0.89      0.88      9357\n",
            "\n"
          ],
          "name": "stdout"
        },
        {
          "output_type": "display_data",
          "data": {
            "image/png": "[encoded data removed]",
            "text/plain": [
              "<Figure size 432x288 with 2 Axes>"
            ]
          },
          "metadata": {
            "tags": [],
            "needs_background": "light"
          }
        }
      ]
    },
    {
      "cell_type": "markdown",
      "metadata": {
        "id": "AgHyCMZU5wWR"
      },
      "source": [
        "It is possible to see by the results that the positive label has the highest recall. Besides, it also has the second highest predicted on the other labels. This is possibly because positive reviews are the most frequent sentiment, as seen before, causing fewer words reviews to be classified as positive, for example."
      ]
    },
    {
      "cell_type": "markdown",
      "metadata": {
        "id": "nmt9apa06t-E"
      },
      "source": [
        "For the next case, the Document Classification will be made, now using the App name and the reviews. First the Lemmatisation will be made to better classify each case."
      ]
    },
    {
      "cell_type": "code",
      "metadata": {
        "id": "FD3HxAT763Xj",
        "colab": {
          "base_uri": "https://localhost:8080/"
        },
        "outputId": "cc6646c6-1912-44a6-800d-5fdd65b0d6cf"
      },
      "source": [
        "# Lemmatisation imports\r\n",
        "from nltk.tokenize import RegexpTokenizer\r\n",
        "from nltk import pos_tag\r\n",
        "from nltk.stem.wordnet import WordNetLemmatizer\r\n",
        "\r\n",
        "# Upgrading lemmatisation imports\r\n",
        "from nltk.corpus import wordnet as wn\r\n",
        "from collections import defaultdict\r\n",
        "tag_map = defaultdict(lambda : wn.NOUN)\r\n",
        "tag_map['J'] = wn.ADJ\r\n",
        "tag_map['V'] = wn.VERB\r\n",
        "tag_map['R'] = wn.ADV\r\n",
        "\r\n",
        "# Defining variables to be used\r\n",
        "lemmatizer = WordNetLemmatizer()\r\n",
        "\r\n",
        "# Only words will be used, leaving ponctuation in general aside\r\n",
        "tknz = RegexpTokenizer(r'[a-zA-Z]+') \r\n",
        "stopwords = nltk.corpus.stopwords.words('english')\r\n",
        "\r\n",
        "# Here, in order to make the lemmatisation more effective, an additional \r\n",
        "# function is made, bringing verbs, adverbs and adjectives to their lemma\r\n",
        "# (making verbs in -ing and past forms become the same)\r\n",
        "def lemmatizeImproved(words):\r\n",
        "  lem_arr = []\r\n",
        "  for token, tag in pos_tag(words):\r\n",
        "    lemma = lemmatizer.lemmatize(token, tag_map[tag[0]])\r\n",
        "    lem_arr.append(lemma)\r\n",
        "  return lem_arr\r\n",
        "\r\n",
        "# Function to remove stopwords from the list\r\n",
        "def notStopWord(words): \r\n",
        "  noStop = []\r\n",
        "  for w in words:\r\n",
        "    if w not in stopwords: noStop.append(w)\r\n",
        "  return noStop\r\n",
        "\r\n",
        "# Applying functions to clean the dataset\r\n",
        "X_lem = X.apply(lambda x: tknz.tokenize(str(x).lower()))\r\n",
        "X_lem = X_lem.apply(lambda x: lemmatizeImproved(x))\r\n",
        "X_lem = X_lem.apply(lambda x: notStopWord(x))\r\n",
        "\r\n",
        "X_lem.head()"
      ],
      "execution_count": 9,
      "outputs": [
        {
          "output_type": "execute_result",
          "data": {
            "text/plain": [
              "0    [like, eat, delicious, food, cook, food, case,...\n",
              "1       [help, eat, healthy, exercise, regular, basis]\n",
              "3        [work, great, especially, go, grocery, store]\n",
              "4                                      [best, idea, u]\n",
              "5                                          [best, way]\n",
              "Name: Translated_Review, dtype: object"
            ]
          },
          "metadata": {
            "tags": []
          },
          "execution_count": 9
        }
      ]
    },
    {
      "cell_type": "markdown",
      "metadata": {
        "id": "bC1IGhvJZrMs"
      },
      "source": [
        "After lemmatisation, the unique values of Apps will become numbers, allowing them to be categorized."
      ]
    },
    {
      "cell_type": "code",
      "metadata": {
        "id": "FomGO4q5pk4q",
        "colab": {
          "base_uri": "https://localhost:8080/",
          "height": 299
        },
        "outputId": "1561487b-0d25-453e-fa50-c02ed72aca26"
      },
      "source": [
        "# Division of the apps to use the Document Classification as categories\r\n",
        "y_class = pd.Categorical(data.App)\r\n",
        "\r\n",
        "# Capture of unique values\r\n",
        "y_codes = y_class.codes\r\n",
        "\r\n",
        "# Visualization of how the categories are in general\r\n",
        "sns.countplot(x=y_codes)\r\n",
        "\r\n",
        "print(y_codes[:5])\r\n",
        "print(y_codes.size)"
      ],
      "execution_count": 10,
      "outputs": [
        {
          "output_type": "stream",
          "text": [
            "[0 0 0 0 0]\n",
            "37427\n"
          ],
          "name": "stdout"
        },
        {
          "output_type": "display_data",
          "data": {
            "image/png": "[encoded data removed]",
            "text/plain": [
              "<Figure size 432x288 with 1 Axes>"
            ]
          },
          "metadata": {
            "tags": [],
            "needs_background": "light"
          }
        }
      ]
    },
    {
      "cell_type": "markdown",
      "metadata": {
        "id": "2_VwtxaurWin"
      },
      "source": [
        "Now the classficiation can be done, dividing the datasets for training and test."
      ]
    },
    {
      "cell_type": "code",
      "metadata": {
        "id": "68To-XL-5lBY"
      },
      "source": [
        "# Reusing the Sentiment Analysis code, but with y_codes\r\n",
        "train_X, test_X, train_y, test_y = train_test_split(X_lem, y_codes, random_state=0)\r\n",
        "\r\n",
        "# Diving texts in TF IDF for classification\r\n",
        "from sklearn.feature_extraction.text import TfidfVectorizer\r\n",
        "\r\n",
        "vectorizer = TfidfVectorizer()\r\n",
        "\r\n",
        "tfidf_classifier_train = vectorizer.fit_transform(train_X.apply(lambda w: ' '.join(w)))\r\n",
        "tfidf_classifier_test = vectorizer.transform(test_X.apply(lambda w: ' '.join(w)))"
      ],
      "execution_count": 11,
      "outputs": []
    },
    {
      "cell_type": "markdown",
      "metadata": {
        "id": "a3cmY91a-Dmu"
      },
      "source": [
        "With the datasets ready, SVM will be used to classify the texts."
      ]
    },
    {
      "cell_type": "code",
      "metadata": {
        "id": "3jEXIPAI99Eg",
        "colab": {
          "base_uri": "https://localhost:8080/"
        },
        "outputId": "a7957e06-91a0-4967-c4d3-982e1f365375"
      },
      "source": [
        "# Importing SVM method\r\n",
        "from sklearn.svm import LinearSVC\r\n",
        "from sklearn.metrics import accuracy_score\r\n",
        "\r\n",
        "SVM = LinearSVC()\r\n",
        "\r\n",
        "# Training and classifications using the datasets\r\n",
        "SVM.fit(tfidf_classifier_train.todense(),train_y)\r\n",
        "predictions = SVM.predict(tfidf_classifier_test.todense())\r\n",
        "\r\n",
        "print(\"The mean accuracy of the SVM: {0:.2f}%\".format(accuracy_score(test_y,predictions)*100))"
      ],
      "execution_count": 12,
      "outputs": [
        {
          "output_type": "stream",
          "text": [
            "The mean accuracy of the SVM: 43.36%\n"
          ],
          "name": "stdout"
        }
      ]
    },
    {
      "cell_type": "markdown",
      "metadata": {
        "id": "rdkLlLSI-Kcf"
      },
      "source": [
        "The result of the accuracy was very low, a few reasons could be:\r\n",
        "*   Even with many reviews, we can see by the graph that the distribution is far from being even, creating a tendency for the classifier;\r\n",
        "*   There are no guarantees that the apps do not have the same subjects, so it is possible to have, for example, two (or more) apps for cooking, which will result in similar reviews, making the classifier lose precision;\r\n",
        "*   The reviews words are not restricted to the apps, making it possible to have generic reviews for distinct apps (\"nice app\" is a possible review that is impossible to be classified)."
      ]
    }
  ]
}